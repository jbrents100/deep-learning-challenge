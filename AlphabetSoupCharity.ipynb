{
 "cells": [
  {
   "cell_type": "markdown",
   "metadata": {
    "id": "PJHax_Y3fhGv"
   },
   "source": [
    "## Preprocessing"
   ]
  },
  {
   "cell_type": "code",
   "execution_count": null,
   "metadata": {},
   "outputs": [],
   "source": [
    "pip install tensorflow"
   ]
  },
  {
   "cell_type": "code",
   "execution_count": null,
   "metadata": {
    "colab": {
     "base_uri": "https://localhost:8080/",
     "height": 496
    },
    "id": "PDE3EjyTfhGw",
    "outputId": "caf9d5ef-8181-4d1d-d131-0470a6f9a313"
   },
   "outputs": [],
   "source": [
    "# Import our dependencies\n",
    "from sklearn.model_selection import train_test_split\n",
    "from sklearn.preprocessing import StandardScaler\n",
    "import pandas as pd\n",
    "import tensorflow as tf\n",
    "\n",
    "#  Import and read the charity_data.csv.\n",
    "import pandas as pd \n",
    "application_df = pd.read_csv(\"https://static.bc-edx.com/data/dl-1-2/m21/lms/starter/charity_data.csv\")\n",
    "application_df.head()"
   ]
  },
  {
   "cell_type": "code",
   "execution_count": null,
   "metadata": {
    "colab": {
     "base_uri": "https://localhost:8080/",
     "height": 522
    },
    "id": "qI5cp9OAfhGy",
    "outputId": "cbbe9785-c5db-4c71-99bf-7989587f5a22"
   },
   "outputs": [],
   "source": [
    "# Drop the non-beneficial ID columns, 'EIN' and 'NAME'.\n",
    "application_df = application_df.drop(columns = ['EIN', 'NAME'])\n",
    "application_df"
   ]
  },
  {
   "cell_type": "code",
   "execution_count": null,
   "metadata": {
    "colab": {
     "base_uri": "https://localhost:8080/"
    },
    "id": "MYlX7G8zfhGy",
    "outputId": "099c1910-4bf3-45fd-fabb-bf54c5c6a42e"
   },
   "outputs": [],
   "source": [
    "# Determine the number of unique values in each column.\n",
    "application_df.nunique()"
   ]
  },
  {
   "cell_type": "code",
   "execution_count": null,
   "metadata": {
    "colab": {
     "base_uri": "https://localhost:8080/"
    },
    "id": "FJe-1swtfhGy",
    "outputId": "3af632fa-a746-4a3c-d030-97bf7028eb76"
   },
   "outputs": [],
   "source": [
    "# Look at APPLICATION_TYPE value counts for binning\n",
    "type_counts = application_df['APPLICATION_TYPE'].value_counts()\n",
    "type_counts"
   ]
  },
  {
   "cell_type": "code",
   "execution_count": null,
   "metadata": {
    "colab": {
     "base_uri": "https://localhost:8080/"
    },
    "id": "_5RjBMp6w6h9",
    "outputId": "a402c94d-205a-445a-b5c8-c342a2f5f634"
   },
   "outputs": [],
   "source": [
    "#scratch work\n",
    "type_counts.iloc[8:]"
   ]
  },
  {
   "cell_type": "code",
   "execution_count": null,
   "metadata": {
    "colab": {
     "base_uri": "https://localhost:8080/"
    },
    "id": "uJA3KD0csjEf",
    "outputId": "ff8e7587-9aa7-4b23-ae11-366c1e009f0d"
   },
   "outputs": [],
   "source": [
    "#scratch work\n",
    "replace_list = list(type_counts.iloc[8:].index)\n",
    "replace_list"
   ]
  },
  {
   "cell_type": "code",
   "execution_count": null,
   "metadata": {
    "colab": {
     "base_uri": "https://localhost:8080/"
    },
    "id": "tDYqh3CwfhGy",
    "outputId": "6562bf21-49fd-4107-98f9-e499f9014716"
   },
   "outputs": [],
   "source": [
    "# Choose a cutoff value and create a list of application types to be replaced\n",
    "# use the variable name `application_types_to_replace`\n",
    "application_types_to_replace = list(type_counts.iloc[8:].index)\n",
    "cutoff_value = 528\n",
    "\n",
    "# Replace in dataframe\n",
    "for app in application_types_to_replace:\n",
    "    application_df['APPLICATION_TYPE'] = application_df['APPLICATION_TYPE'].replace(app,\"Other_app_type\")\n",
    "\n",
    "# Check to make sure binning was successful\n",
    "application_df['APPLICATION_TYPE'].value_counts()"
   ]
  },
  {
   "cell_type": "code",
   "execution_count": null,
   "metadata": {
    "colab": {
     "base_uri": "https://localhost:8080/"
    },
    "id": "FfiF0W4ofhGz",
    "outputId": "4c237dac-5d81-4b74-cc1b-f5c3a95a0c8e"
   },
   "outputs": [],
   "source": [
    "# Look at CLASSIFICATION value counts for binning\n",
    "classification_types = application_df['CLASSIFICATION'].value_counts()\n",
    "classification_types"
   ]
  },
  {
   "cell_type": "code",
   "execution_count": null,
   "metadata": {
    "colab": {
     "base_uri": "https://localhost:8080/"
    },
    "id": "QbIvX03IE2DE",
    "outputId": "25f805c7-f760-44e7-99fa-9664f4810e7a"
   },
   "outputs": [],
   "source": [
    "#It may be helpful to look at classification values >1 \n",
    "classifications_cleaned = classification_types.loc[classification_types > 1]\n",
    "classifications_cleaned"
   ]
  },
  {
   "cell_type": "code",
   "execution_count": null,
   "metadata": {
    "colab": {
     "base_uri": "https://localhost:8080/"
    },
    "id": "r4jMvdpAERbX",
    "outputId": "f38042b6-3a34-43ff-a758-2c22f4dcb6c7"
   },
   "outputs": [],
   "source": [
    "#scratch work\n",
    "classification_types.iloc[5:].index"
   ]
  },
  {
   "cell_type": "code",
   "execution_count": null,
   "metadata": {
    "colab": {
     "base_uri": "https://localhost:8080/"
    },
    "id": "fiwYKxfvEF84",
    "outputId": "e1816688-6eb7-43f2-8972-4c7c0c9d3d25"
   },
   "outputs": [],
   "source": [
    "# Choose a cutoff value and create a list of classifications to be replaced\n",
    "# use the variable name `classifications_to_replace`\n",
    "classifications_to_replace = list(classification_types.iloc[5:].index)\n",
    "cutoff_value_classifications = 1883\n",
    "\n",
    "# Replace in dataframe\n",
    "for cls in classifications_to_replace:\n",
    "    application_df['CLASSIFICATION'] = application_df['CLASSIFICATION'].replace(cls,\"Other_classification\")\n",
    "    \n",
    "# Check to make sure binning was successful\n",
    "application_df['CLASSIFICATION'].value_counts()"
   ]
  },
  {
   "cell_type": "code",
   "execution_count": null,
   "metadata": {
    "colab": {
     "base_uri": "https://localhost:8080/",
     "height": 305
    },
    "id": "lDPSjIIkLMny",
    "outputId": "e0addd46-64eb-46da-813a-9b30889eafe4"
   },
   "outputs": [],
   "source": [
    "application_df.head()"
   ]
  },
  {
   "cell_type": "code",
   "execution_count": null,
   "metadata": {
    "colab": {
     "base_uri": "https://localhost:8080/"
    },
    "id": "tJn5FoVQRFTV",
    "outputId": "de81ea0f-8120-4764-d4be-c9ecc1453e4b"
   },
   "outputs": [],
   "source": [
    "#scratch work\n",
    "application_df.dtypes"
   ]
  },
  {
   "cell_type": "code",
   "execution_count": null,
   "metadata": {
    "colab": {
     "base_uri": "https://localhost:8080/"
    },
    "id": "3dJwIhLkRTlc",
    "outputId": "54bd1683-6046-4bbf-e47b-8234dca56796"
   },
   "outputs": [],
   "source": [
    "#scratch work\n",
    "categorical_list = application_df.dtypes[application_df.dtypes == \"object\"].index.tolist()\n",
    "categorical_list"
   ]
  },
  {
   "cell_type": "code",
   "execution_count": null,
   "metadata": {
    "colab": {
     "base_uri": "https://localhost:8080/",
     "height": 317
    },
    "id": "ZKb9WkQZxOjj",
    "outputId": "b35c9835-4322-4216-bcd4-b3275ba1935f"
   },
   "outputs": [],
   "source": [
    "#convert the categorical data in numeric using get_dummies()\n",
    "dummies = pd.get_dummies(application_df)\n",
    "dummies.head()"
   ]
  },
  {
   "cell_type": "code",
   "execution_count": null,
   "metadata": {
    "colab": {
     "base_uri": "https://localhost:8080/"
    },
    "id": "aCxav_tNEvzm",
    "outputId": "9ed7c684-d510-453e-b2c1-400709bb19de"
   },
   "outputs": [],
   "source": [
    "#scratch work\n",
    "application_df['IS_SUCCESSFUL'].values"
   ]
  },
  {
   "cell_type": "code",
   "execution_count": null,
   "metadata": {
    "colab": {
     "base_uri": "https://localhost:8080/"
    },
    "id": "zMhClP7RFMcK",
    "outputId": "40c1c2ef-273c-4760-b842-fb25890c8740"
   },
   "outputs": [],
   "source": [
    "#scratch work\n",
    "xtemp = application_df.drop(columns='IS_SUCCESSFUL')\n",
    "xtemp.values"
   ]
  },
  {
   "cell_type": "code",
   "execution_count": null,
   "metadata": {
    "colab": {
     "base_uri": "https://localhost:8080/"
    },
    "id": "0VzoMUkby27K",
    "outputId": "c2266388-ea22-40fc-cc3d-f2154a8c4994"
   },
   "outputs": [],
   "source": [
    "#scratch work\n",
    "dummies['IS_SUCCESSFUL'].values"
   ]
  },
  {
   "cell_type": "code",
   "execution_count": null,
   "metadata": {
    "colab": {
     "base_uri": "https://localhost:8080/"
    },
    "id": "A3XsR-QmzAZ6",
    "outputId": "c41e4c61-31d5-4e8b-d355-37e1b1feead3"
   },
   "outputs": [],
   "source": [
    "#scratch work\n",
    "xtemp2 = dummies.drop(columns='IS_SUCCESSFUL').values\n",
    "xtemp2"
   ]
  },
  {
   "cell_type": "code",
   "execution_count": null,
   "metadata": {
    "id": "sKT_3DYhfhG0"
   },
   "outputs": [],
   "source": [
    "# Split our preprocessed data into our features and target arrays\n",
    "y = dummies['IS_SUCCESSFUL'].values\n",
    "X = dummies.drop(columns='IS_SUCCESSFUL').values\n",
    "\n",
    "# Split the preprocessed data into a training and testing dataset\n",
    "X_train, X_test, y_train, y_test = train_test_split(X, y)"
   ]
  },
  {
   "cell_type": "code",
   "execution_count": null,
   "metadata": {
    "id": "mqgWTV_ifhG0"
   },
   "outputs": [],
   "source": [
    "# Create a StandardScaler instances\n",
    "scaler = StandardScaler()\n",
    "\n",
    "# Fit the StandardScaler\n",
    "X_scaler = scaler.fit(X_train)\n",
    "\n",
    "# Scale the data\n",
    "X_train_scaled = X_scaler.transform(X_train)\n",
    "X_test_scaled = X_scaler.transform(X_test)"
   ]
  },
  {
   "cell_type": "markdown",
   "metadata": {
    "id": "vzqK575KfhG1"
   },
   "source": [
    "## Compile, Train and Evaluate the Model"
   ]
  },
  {
   "cell_type": "code",
   "execution_count": null,
   "metadata": {
    "colab": {
     "base_uri": "https://localhost:8080/"
    },
    "id": "WciQett7nXs-",
    "outputId": "370f745e-650c-44d8-cfea-d0275e72d6b2"
   },
   "outputs": [],
   "source": [
    "# (FIRST ATTEMPT - 73% accuracy)\n",
    "# Define the model - deep neural net, i.e., the number of input features and hidden nodes for each layer.\n",
    "input_features_total = len(X_train[0])\n",
    "hidden_nodes_layer1 = 8\n",
    "hidden_nodes_layer2 = 5\n",
    "\n",
    "nn = tf.keras.models.Sequential()\n",
    "\n",
    "# First hidden layer\n",
    "nn.add(tf.keras.layers.Dense(units=hidden_nodes_layer1, input_dim = input_features_total, activation = \"relu\"))\n",
    "\n",
    "# Second hidden layer\n",
    "nn.add(tf.keras.layers.Dense(units=hidden_nodes_layer2, activation = \"relu\"))\n",
    "\n",
    "# Output layer\n",
    "nn.add(tf.keras.layers.Dense(units=1, activation=\"sigmoid\"))\n",
    "\n",
    "# Check the structure of the model\n",
    "nn.summary()"
   ]
  },
  {
   "cell_type": "code",
   "execution_count": null,
   "metadata": {
    "id": "BIdi3EnYo99l"
   },
   "outputs": [],
   "source": [
    "# Compile the model (FIRST ATTEMPT)\n",
    "nn.compile(loss=\"binary_crossentropy\", optimizer=\"adam\", metrics=[\"accuracy\"])"
   ]
  },
  {
   "cell_type": "code",
   "execution_count": null,
   "metadata": {
    "colab": {
     "base_uri": "https://localhost:8080/"
    },
    "id": "c5J2FQgOpD7N",
    "outputId": "a34202be-ef60-4359-c83d-958ae94724ae"
   },
   "outputs": [],
   "source": [
    "# Train the model (FIRST ATTEMPT)\n",
    "fit_model = nn.fit(X_train_scaled,y_train,epochs=100)"
   ]
  },
  {
   "cell_type": "code",
   "execution_count": null,
   "metadata": {
    "colab": {
     "base_uri": "https://localhost:8080/"
    },
    "id": "iThnZmLYq1Lg",
    "outputId": "6131ab0f-ed66-4b4c-9e2b-b1c1c89a9170"
   },
   "outputs": [],
   "source": [
    "# Evaluate the model using the test data (FIRST ATTEMPT)\n",
    "model_loss, model_accuracy = nn.evaluate(X_test_scaled,y_test,verbose=2)\n",
    "print(f\"Loss: {model_loss}, Accuracy: {model_accuracy}\")"
   ]
  },
  {
   "cell_type": "code",
   "execution_count": null,
   "metadata": {
    "id": "nhMNqUU4fhG2"
   },
   "outputs": [],
   "source": [
    "# Export our model to HDF5 file\n",
    "filepath = r\"C:\\Users\\John\\Deep_Learning_Challenge\\deep-learning-challenge\\AlphabetSoupCharity.h5\"\n",
    "nn.save(filepath, save_format='h5')"
   ]
  },
  {
   "cell_type": "code",
   "execution_count": null,
   "metadata": {
    "id": "ARcKPI08uXax"
   },
   "outputs": [],
   "source": []
  },
  {
   "cell_type": "code",
   "execution_count": null,
   "metadata": {},
   "outputs": [],
   "source": []
  },
  {
   "cell_type": "code",
   "execution_count": null,
   "metadata": {},
   "outputs": [],
   "source": []
  },
  {
   "cell_type": "code",
   "execution_count": null,
   "metadata": {},
   "outputs": [],
   "source": []
  }
 ],
 "metadata": {
  "colab": {
   "provenance": []
  },
  "kernelspec": {
   "display_name": "Python 3 (ipykernel)",
   "language": "python",
   "name": "python3"
  },
  "language_info": {
   "codemirror_mode": {
    "name": "ipython",
    "version": 3
   },
   "file_extension": ".py",
   "mimetype": "text/x-python",
   "name": "python",
   "nbconvert_exporter": "python",
   "pygments_lexer": "ipython3",
   "version": "3.7.7"
  },
  "vscode": {
   "interpreter": {
    "hash": "31f2aee4e71d21fbe5cf8b01ff0e069b9275f58929596ceb00d14d90e3e16cd6"
   }
  }
 },
 "nbformat": 4,
 "nbformat_minor": 1
}
